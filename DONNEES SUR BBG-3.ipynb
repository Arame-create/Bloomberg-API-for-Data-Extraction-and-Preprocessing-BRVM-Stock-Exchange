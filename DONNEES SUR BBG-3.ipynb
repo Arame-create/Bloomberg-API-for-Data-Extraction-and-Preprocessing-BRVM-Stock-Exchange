{
 "cells": [
  {
   "cell_type": "markdown",
   "id": "7c8604c2-ca94-4d00-9d0f-f9a18e27917b",
   "metadata": {},
   "source": [
    "# SCRIPT POUR RÉCUPÉRER DES DONNÉES SUR BLOOMBERG (Exécutable uniquement sur un PC disposant de l'outil Bloomberg)\n",
    "\n",
    "Afin d'exécuter le code, cliquez sur Run => Run All Cells."
   ]
  },
  {
   "cell_type": "markdown",
   "id": "a8472f83-c5f5-4a5d-8fdd-019702cc25a5",
   "metadata": {},
   "source": [
    "### 1- Installation des Modules"
   ]
  },
  {
   "cell_type": "code",
   "execution_count": 1,
   "id": "6a95314b-8a24-4517-a276-1af3d56a04c1",
   "metadata": {},
   "outputs": [],
   "source": [
    "import pandas as pd\n",
    "import numpy as np\n",
    "import statsmodels.api as sm\n",
    "import scipy.stats as stats\n",
    "import matplotlib.pyplot as plt\n",
    "import seaborn as sns\n",
    "\n",
    "# Modules for the buttons and widgets \n",
    "import ipywidgets as widgets\n",
    "from ipywidgets import Button, Layout, Text,  HBox\n",
    "from ipywidgets import Dropdown\n",
    "from ipywidgets import Output\n",
    "from IPython.display import display\n",
    "\n",
    "%load_ext autoreload\n",
    "%autoreload 2\n",
    "%matplotlib inline"
   ]
  },
  {
   "cell_type": "code",
   "execution_count": null,
   "id": "06111aef-cafc-4824-9bba-168e7f491cd2",
   "metadata": {},
   "outputs": [],
   "source": [
    "# Modules pour Bloomberg\n",
    "import blpapi\n",
    "from xbbg import blp"
   ]
  },
  {
   "cell_type": "markdown",
   "id": "742f68f1-efde-4611-88ea-f61d58522105",
   "metadata": {
    "tags": []
   },
   "source": [
    "### 2- Exportation des données historiques des titres à partir de Bloomberg (Exécutable uniquement sur un PC disposant de l'outil Bloomberg)\n",
    "\n",
    "* On utilise la fonction bdh et on définit les tickers (Symboles comme définit sur Bloomberg ex: SNTS BC EQUITY) qui nous intéressent, la start_date ou end_date sous le format YYYY-MM-DD et la période (Yearly 'Y', Weekly 'W' ou Daily 'D').\n",
    "\n",
    "* Days= 'A' signifie \"récupérer tous les jours y compris les week-ends\" et Fill='P' signifie \"si vous n'avez pas de données pour un jour donné, remplir avec les données disponibles par le passé\".\n",
    "\n",
    "* Si vous ne souhaitez pas définir une date de début pour avoir toutes les données disponibles sans restriction supprimer dans le code la start date.\n",
    "\n",
    "* Si vous ne souhaitez pas prendre en compte les week-ends, supprimer Days='A' dans le code.\n",
    "\n",
    "* Si vous ne souhaitez pas appeler tous les titres, supprimer les tickers dont vous n'avez pas besoin.\n",
    "\n",
    "* Si vous n'avez besoin que du prix de clôture, il suffira de supprimer certaines des mentions dans fields (flds). \n",
    "\n",
    "* 'EQY_DPS' permet d'avoir le dividende.\n",
    "\n",
    "* 'TOT_RETURN_INDEX_GROSS_DVDS' est un champ Bloomberg principalement utilisé pour calculer le rendement total d'un indice sur une période donnée. Cela comprend à la fois l'appréciation du prix et le réinvestissement des dividendes.\n",
    "\n",
    "* 'EQY_TOTAL_RETURN_INDEX' est un champ Bloomberg principalement utilisé pour calculer le rendement total d'une action sur une période donnée. Cela comprend à la fois l'appréciation du prix et le réinvestissement des dividendes.\n",
    "\n",
    "* Si vous ne souhaitez pas remplir les données non disponibles pour un jour donné par celles de la veille, supprimer Fill='P'.\n",
    "\n",
    "* Afin de connaitre les caractéristiques de la fonction bdh, mettez le curseur aprés la fonction et cliquer sur shift+tab.\n",
    "\n",
    "* Les fichiers Excel des données recherchées sont diponibles dans le file browser, il suffira de les télécharger.\n",
    "\n",
    "* Les ratios présentaient sont le P/E, D/Y, ROE, ROA, ROC, ROIC, Payout ratio, EBITDA Margin, Operating Margin.\n",
    "\n",
    "* Pour extraire des données sur excel, il suffit d'utiliser le script nom du fichier à exporter.to_excel('nom.xlsx',index=True). le fichier xlsx est créé dans le dossier python, un clique droit et il sera téléchargé."
   ]
  },
  {
   "cell_type": "code",
   "execution_count": 2,
   "id": "0cbaf362-a2d6-4e70-b022-f8ebe510f52b",
   "metadata": {
    "jupyter": {
     "source_hidden": true
    },
    "tags": []
   },
   "outputs": [
    {
     "data": {
      "application/vnd.jupyter.widget-view+json": {
       "model_id": "2d88a354dc474bafbf4c6fc07a049873",
       "version_major": 2,
       "version_minor": 0
      },
      "text/plain": [
       "Dropdown(description='Secteur:', options=('Tous les Secteurs', 'Secteur Finance', 'Secteur Services Publics', …"
      ]
     },
     "metadata": {},
     "output_type": "display_data"
    },
    {
     "data": {
      "application/vnd.jupyter.widget-view+json": {
       "model_id": "c7ea4fb56c924ce2878cc661a04ff9f2",
       "version_major": 2,
       "version_minor": 0
      },
      "text/plain": [
       "Dropdown(description='Start Date:', options=('1998', '2000', '2005', '2010', '2017', '2018', '2019', '2020', '…"
      ]
     },
     "metadata": {},
     "output_type": "display_data"
    },
    {
     "data": {
      "application/vnd.jupyter.widget-view+json": {
       "model_id": "773184c863154fc28299da3627cd7f55",
       "version_major": 2,
       "version_minor": 0
      },
      "text/plain": [
       "Dropdown(description='Périodicité:', options=('Journalière', 'Hebdomadaire', 'Mensuelle', 'Annuelle'), value='…"
      ]
     },
     "metadata": {},
     "output_type": "display_data"
    },
    {
     "data": {
      "application/vnd.jupyter.widget-view+json": {
       "model_id": "58036b72e1ac4a5aaadb3407cd66741a",
       "version_major": 2,
       "version_minor": 0
      },
      "text/plain": [
       "HBox(children=(Button(button_style='info', description='Dernier Cours', layout=Layout(height='40px', width='24…"
      ]
     },
     "metadata": {},
     "output_type": "display_data"
    },
    {
     "data": {
      "application/vnd.jupyter.widget-view+json": {
       "model_id": "bf436b4a71254ca59449720aaf911425",
       "version_major": 2,
       "version_minor": 0
      },
      "text/plain": [
       "Output()"
      ]
     },
     "metadata": {},
     "output_type": "display_data"
    },
    {
     "data": {
      "application/vnd.jupyter.widget-view+json": {
       "model_id": "1f8d8f28d3e64f12838ab8c918aa1933",
       "version_major": 2,
       "version_minor": 0
      },
      "text/plain": [
       "Output()"
      ]
     },
     "metadata": {},
     "output_type": "display_data"
    },
    {
     "data": {
      "application/vnd.jupyter.widget-view+json": {
       "model_id": "66f08132070d419c98671d793dc48bfb",
       "version_major": 2,
       "version_minor": 0
      },
      "text/plain": [
       "Output()"
      ]
     },
     "metadata": {},
     "output_type": "display_data"
    },
    {
     "data": {
      "application/vnd.jupyter.widget-view+json": {
       "model_id": "f3dafbe1bff143c2b3f434d838eddd43",
       "version_major": 2,
       "version_minor": 0
      },
      "text/plain": [
       "Output()"
      ]
     },
     "metadata": {},
     "output_type": "display_data"
    },
    {
     "data": {
      "application/vnd.jupyter.widget-view+json": {
       "model_id": "11e486a577574aebae9b10a70ca6d766",
       "version_major": 2,
       "version_minor": 0
      },
      "text/plain": [
       "Output()"
      ]
     },
     "metadata": {},
     "output_type": "display_data"
    },
    {
     "data": {
      "application/vnd.jupyter.widget-view+json": {
       "model_id": "fb298dd3dfaa4db883f5718e5035f94c",
       "version_major": 2,
       "version_minor": 0
      },
      "text/plain": [
       "Output()"
      ]
     },
     "metadata": {},
     "output_type": "display_data"
    },
    {
     "data": {
      "application/vnd.jupyter.widget-view+json": {
       "model_id": "fb6c70a74568446e96bc31bfe780fb6d",
       "version_major": 2,
       "version_minor": 0
      },
      "text/plain": [
       "Output()"
      ]
     },
     "metadata": {},
     "output_type": "display_data"
    }
   ],
   "source": [
    "# Dropdown pour la sélection des titres\n",
    "data_selection = {\n",
    "    \"Tous les Secteurs\": ['CABC BC EQUITY','FTSC BC EQUITY','NEIC BC EQUITY','NTLC BC EQUITY','SEMC BC EQUITY','SIVC BC EQUITY','SLBC BC EQUITY','SMBC BC EQUITY','STBC BC EQUITY','TTRC BC EQUITY','UNLC BC EQUITY','UNXC BC EQUITY','CIEC BC EQUITY','ONTBF BC EQUITY','ORAC BC EQUITY','SDCC BC EQUITY','SNTS BC EQUITY','BICC BC EQUITY','BOAB BC EQUITY','BOABF BC EQUITY','BOAC BC EQUITY','BOAM BC EQUITY','BOAN BC EQUITY','BOAS BC EQUITY','CBIBF BC EQUITY','ECOC BC EQUITY','ETIT BC EQUITY','NSBC BC EQUITY','ORGT BC EQUITY','SAFC BC EQUITY','SGBC BC EQUITY','SIBC BC EQUITY','SDSC BC EQUITY','SVOC BC EQUITY','PALC BC EQUITY','SCRC BC EQUITY','SICC BC EQUITY','SOGC BC EQUITY','SPHC BC EQUITY','ABJC BC EQUITY','BNBC BC EQUITY','CFAC BC EQUITY','PRSC BC EQUITY','SHEC BC EQUITY','TTLC BC EQUITY','TTLS BC EQUITY','STAC BC EQUITY'],\n",
    "    \"Secteur Finance\": ['BOAB BC EQUITY','BOABF BC EQUITY','BOAC BC EQUITY','BOAM BC EQUITY','BOAN BC EQUITY','BOAS BC EQUITY','BICC BC EQUITY','CBIBF BC EQUITY','ECOC BC EQUITY', 'ETIT BC EQUITY', 'NSBC BC EQUITY','ORGT BC EQUITY','SAFC BC EQUITY','SGBC BC EQUITY','SIBC BC EQUITY'],\n",
    "    \"Secteur Services Publics\": ['CIEC BC EQUITY', 'ONTBF BC EQUITY','ORAC BC EQUITY','SDCC BC EQUITY','SNTS BC EQUITY'],\n",
    "    \"Secteur Industrie\":['SIVC BC EQUITY','SEMC BC EQUITY','FTSC BC EQUITY','NEIC BC EQUITY','NTLC BC EQUITY','CABC BC EQUITY','STBC BC EQUIT','SMBC BC EQUITY','SLBC BC EQUITY','UNLC BC EQUITY','UNXC BC EQUITY'],\n",
    "    \"Secteur Agriculture\": ['PALC BC EQUITY','SPHC BC EQUITY','SICC BC EQUITY','SOGC BC EQUITY','SCRC BC EQUITY'],\n",
    "    \"Secteur Distribution\": ['BNBC BC EQUITY','CFAC BC EQUITY','ABJC BC EQUITY','TTLC BC EQUITY','TTLS BC EQUITY','SHEC BC EQUITY','PRSC BC EQUITY'],\n",
    "    \"Secteur Transport\": ['SDSC BC EQUITY','SVOC BC EQUITY'],\n",
    "    \"Autres Secteurs\": ['STAC BC EQUITY'],\n",
    "    \"Indices\":['ICXCOMP Index','ICXAGR Index','ICXIND Index','ICX10 Index','ICXAUT Index','ICXDIS Index','ICXFIN Index','ICXSPU Index','ICXTRP Index'],\n",
    "}\n",
    "\n",
    "data_options = list(data_selection.keys()) \n",
    "data_dropdown = Dropdown(\n",
    "    description=\"Secteur:\",\n",
    "    options=data_options,\n",
    "    value=data_options[0], \n",
    ")\n",
    "\n",
    "\n",
    "# Dropdown pour la sélection des dates\n",
    "date_selection = {\n",
    "    \"1998\": '1998-09-16',\n",
    "    \"2000\": '2000-01-01',\n",
    "    \"2005\": '2005-01-01', \n",
    "    \"2010\": '2010-01-01', \n",
    "    \"2017\": '2017-01-01',\n",
    "    \"2018\": '2018-01-01',\n",
    "    \"2019\": '2019-01-01',\n",
    "    \"2020\": '2020-01-01',\n",
    "    \"2021\": '2021-01-01',\n",
    "    \"2022\": '2022-01-01', \n",
    "    \"2023\": '2023-01-01', \n",
    "    \"2024\": '2024-01-01', \n",
    "    \"2025\": '2025-01-01', \n",
    "    \"2026\": '2026-01-01', \n",
    "    \"2027\": '2027-01-01', \n",
    "    \"2028\": '2028-01-01',\n",
    "    \"2029\": '2029-01-01', \n",
    "    \"2030\": '2030-01-01', \n",
    "    \"2031\": '2031-01-01',\n",
    "    \"2032\": '2032-01-01', \n",
    "    \"2033\": '2033-01-01', \n",
    "    \"2034\": '2034-01-01',     \n",
    "}\n",
    "\n",
    "\n",
    "date_options = list(date_selection.keys()) \n",
    "date_dropdown = Dropdown(\n",
    "    description=\"Start Date:\",\n",
    "    options=date_options,\n",
    "    value=date_options[0], \n",
    ")\n",
    "\n",
    "# Dropdown pour la sélection des fréquences\n",
    "freq_selection = {\n",
    "    \"Journalière\":'D',\n",
    "    \"Hebdomadaire\": 'W', \n",
    "    \"Mensuelle\": 'M', \n",
    "    \"Annuelle\": 'Y', \n",
    "}\n",
    "\n",
    "\n",
    "freq_options = list(freq_selection.keys()) \n",
    "freq_dropdown = Dropdown(\n",
    "    description=\"Périodicité:\",\n",
    "    options=freq_options,\n",
    "    value=freq_options[0], \n",
    ")\n",
    "\n",
    "\n",
    "# Définition des fonctions de calcul\n",
    "\n",
    "def last_price():\n",
    "    Last_price=blp.bdh(tickers=data_selection[data_dropdown.value],flds=['last_price'],start_date=date_selection[date_dropdown.value],Per=freq_selection[freq_dropdown.value])\n",
    "    Last_toexcel=Last_price.to_excel('Dernier_Cours.xlsx',index=True)\n",
    "    print(Last_price)\n",
    "\n",
    "last_price_button = widgets.Button(description=\"Dernier Cours\",button_style='info')\n",
    "last_price_button.layout.width = '240px'\n",
    "last_price_button.layout.height = '40px'\n",
    "output = widgets.Output()\n",
    "\n",
    "def on_button_clicked(b):\n",
    "    with output:\n",
    "        output.clear_output()\n",
    "        last_price()\n",
    "\n",
    "last_price_button.on_click(on_button_clicked)\n",
    "\n",
    "def high_low():\n",
    "    high_low=blp.bdh(tickers=data_selection[data_dropdown.value],flds=['open','high','low'],start_date=date_selection[date_dropdown.value],Per=freq_selection[freq_dropdown.value])\n",
    "    high_low_toexcel=high_low.to_excel('Open_High_Low.xlsx',index=True)\n",
    "    print(high_low)\n",
    "\n",
    "high_low_button = widgets.Button(description=\"Open / High_Low\",button_style='info')\n",
    "high_low_button.layout.width = '240px'\n",
    "high_low_button.layout.height = '40px'\n",
    "output1 = widgets.Output()\n",
    "\n",
    "def on_button_clicked1(b):\n",
    "    with output1:\n",
    "        output1.clear_output()\n",
    "        high_low()\n",
    "\n",
    "high_low_button.on_click(on_button_clicked1)\n",
    "\n",
    "\n",
    "def vol_mktcap():\n",
    "    vol_mktcap=blp.bdh(tickers=data_selection[data_dropdown.value],flds=['volume','cur_mkt_cap'],start_date=date_selection[date_dropdown.value],Per=freq_selection[freq_dropdown.value])\n",
    "    vol_mktcap_toexcel=vol_mktcap.to_excel('Volume_Mktcap.xlsx',index=True)\n",
    "    print(vol_mktcap)\n",
    "\n",
    "vol_mktcap_button = widgets.Button(description=\"Volume / Capitalisation Boursière\",button_style='info')\n",
    "vol_mktcap_button.layout.width = '240px'\n",
    "vol_mktcap_button.layout.height = '40px'\n",
    "output2 = widgets.Output()\n",
    "\n",
    "def on_button_clicked2(b):\n",
    "    with output2:\n",
    "        output2.clear_output()\n",
    "        vol_mktcap()\n",
    "\n",
    "vol_mktcap_button.on_click(on_button_clicked2)\n",
    "\n",
    "\n",
    "def div():\n",
    "    div=blp.bdh(tickers=data_selection[data_dropdown.value],flds=['EQY_DPS'],start_date=date_selection[date_dropdown.value],Per=freq_selection[freq_dropdown.value])\n",
    "    div_toexcel= div.to_excel('Dividendes.xlsx',index=True)\n",
    "    print(div)\n",
    "\n",
    "div_button = widgets.Button(description=\"Dividendes\",button_style='info')\n",
    "div_button.layout.width = '240px'\n",
    "div_button.layout.height = '40px'\n",
    "output3 = widgets.Output()\n",
    "\n",
    "def on_button_clicked3(b):\n",
    "    with output3:\n",
    "        output3.clear_output()\n",
    "        div()\n",
    "\n",
    "div_button.on_click(on_button_clicked3)\n",
    "\n",
    "def tot_ret_ind():\n",
    "    tot_ret_ind=blp.bdh(tickers=data_selection[\"Indices\"],flds=['TOT_RETURN_INDEX_GROSS_DVDS'],start_date=date_selection[date_dropdown.value],Per=freq_selection[freq_dropdown.value])\n",
    "    totret_ind_toexcel= tot_ret_ind.to_excel('Total Return Indice.xlsx',index=True)\n",
    "    print(tot_ret_ind)\n",
    "\n",
    "tot_ret_button = widgets.Button(description=\"Total Return Indices\",button_style='info')\n",
    "tot_ret_button.layout.width = '240px'\n",
    "tot_ret_button.layout.height = '40px'\n",
    "output4 = widgets.Output()\n",
    "\n",
    "def on_button_clicked4(b):\n",
    "    with output4:\n",
    "        output4.clear_output()\n",
    "        tot_ret_ind()\n",
    "\n",
    "tot_ret_button.on_click(on_button_clicked4)\n",
    "\n",
    "def tot_ret_eqy():\n",
    "    tot_ret_eqy=blp.bdh(tickers=data_selection[data_dropdown.value],flds=['EQY_TOTAL_RETURN_INDEX'],start_date=date_selection[date_dropdown.value],Per=freq_selection[freq_dropdown.value])\n",
    "    totret_eqy_toexcel= tot_ret_eqy.to_excel('Total Return Actions.xlsx',index=True)\n",
    "    print(tot_ret_eqy)\n",
    "\n",
    "tot_ret_eqy_button = widgets.Button(description=\"Total Return Actions\",button_style='info')\n",
    "tot_ret_eqy_button.layout.width = '240px'\n",
    "tot_ret_eqy_button.layout.height = '40px'\n",
    "output5 = widgets.Output()\n",
    "\n",
    "def on_button_clicked5(b):\n",
    "    with output5:\n",
    "        output5.clear_output()\n",
    "        tot_ret_eqy()\n",
    "\n",
    "tot_ret_eqy_button.on_click(on_button_clicked5)\n",
    "\n",
    "def ratio():\n",
    "    ratio=blp.bdh(tickers=data_selection[data_dropdown.value],flds=['PE_RATIO','DIVIDEND_YIELD','RETURN_COM_EQY','RETURN_ON_ASSET','RETURN_ON_CAP','RETURN_ON_INV_CAPITAL','DVD_PAYOUT_RATIO','EBITDA_TO_REVENUE','OPER_MARGIN'],start_date=date_selection[date_dropdown.value],Per=freq_selection[\"Annuelle\"])\n",
    "    ratio_toexcel=ratio.to_excel('Ratios.xlsx',index=True)\n",
    "    print(ratio)\n",
    "\n",
    "ratio_button = widgets.Button(description=\"Ratios\",button_style='info')\n",
    "ratio_button.layout.width = '240px'\n",
    "ratio_button.layout.height = '40px'\n",
    "\n",
    "output6 = widgets.Output()\n",
    "\n",
    "def on_button_clicked6(b):\n",
    "    with output6:\n",
    "        output6.clear_output()\n",
    "        ratio()\n",
    "\n",
    "ratio_button.on_click(on_button_clicked6)\n",
    "\n",
    "# Creation d'un HBox layout \n",
    "hbox = HBox(children=[last_price_button,high_low_button,vol_mktcap_button,div_button,tot_ret_button,tot_ret_eqy_button,ratio_button])\n",
    "\n",
    "display(data_dropdown,date_dropdown,freq_dropdown,hbox,output,output1,output2,output3,output4,output5,output6)   \n"
   ]
  },
  {
   "cell_type": "code",
   "execution_count": null,
   "id": "624c53d8",
   "metadata": {},
   "outputs": [],
   "source": []
  }
 ],
 "metadata": {
  "kernelspec": {
   "display_name": "Python 3",
   "language": "python",
   "name": "python3"
  },
  "language_info": {
   "codemirror_mode": {
    "name": "ipython",
    "version": 3
   },
   "file_extension": ".py",
   "mimetype": "text/x-python",
   "name": "python",
   "nbconvert_exporter": "python",
   "pygments_lexer": "ipython3",
   "version": "3.12.1"
  }
 },
 "nbformat": 4,
 "nbformat_minor": 5
}
